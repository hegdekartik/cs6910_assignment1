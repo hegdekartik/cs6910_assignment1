{
  "nbformat": 4,
  "nbformat_minor": 0,
  "metadata": {
    "colab": {
      "name": "question1.ipynb",
      "provenance": [],
      "collapsed_sections": []
    },
    "kernelspec": {
      "name": "python3",
      "display_name": "Python 3"
    },
    "language_info": {
      "name": "python"
    }
  },
  "cells": [
    {
      "cell_type": "code",
      "execution_count": null,
      "metadata": {
        "id": "3h_Gc8NNk3sk"
      },
      "outputs": [],
      "source": [
        "import wandb\n",
        "import numpy as np\n",
        "from keras.datasets import fashion_mnist\n",
        "import matplotlib.pyplot as plt\n",
        "\n",
        "# initializing wandb project\n",
        "wandb.init(project=\"fashion_mnist\")\n",
        "\n",
        "           \n",
        "# Load the dataset\n",
        "[(x_train, y_train), (x_test, y_test)] = fashion_mnist.load_data()\n",
        "\n",
        "# Get the number of classes and their name mappings\n",
        "num_classes = 10\n",
        "class_mapping = {0: \"T-shirt/top\", 1: \"Trouser\", 2: \"Pullover\", 3: \"Dress\", 4: \"Coat\", 5: \"Sandal\", 6: \"Shirt\", 7: \"Sneaker\", 8: \"Bag\", 9: \"Ankle boot\"}\n",
        "\n",
        "# Plotting a figure from each class\n",
        "plt.figure(figsize=[12, 5])\n",
        "image_list = []\n",
        "cls_list = []\n",
        "\n",
        "for i in range(num_classes):\n",
        "    position = np.argmax(y_train==i)\n",
        "    image = x_train[position,:,:]\n",
        "    plt.subplot(2, 5, i+1)\n",
        "    plt.imshow(image)\n",
        "    plt.title(class_mapping[i])\n",
        "    image_list.append(image)\n",
        "    cls_list.append(class_mapping[i])\n",
        "    \n",
        "wandb.log({\"Question 1\": [wandb.Image(img, caption=caption) for img, caption in zip(image_list, cls_list)]})\n",
        "##############################################################################"
      ]
    }
  ]
}